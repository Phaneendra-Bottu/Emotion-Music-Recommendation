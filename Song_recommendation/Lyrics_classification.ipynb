{
 "cells": [
  {
   "cell_type": "code",
   "execution_count": 1,
   "metadata": {},
   "outputs": [
    {
     "name": "stdout",
     "output_type": "stream",
     "text": [
      "WARNING:tensorflow:From c:\\Users\\PhnaeendraAdmin\\anaconda3\\Lib\\site-packages\\keras\\src\\losses.py:2976: The name tf.losses.sparse_softmax_cross_entropy is deprecated. Please use tf.compat.v1.losses.sparse_softmax_cross_entropy instead.\n",
      "\n"
     ]
    },
    {
     "name": "stderr",
     "output_type": "stream",
     "text": [
      "c:\\Users\\PhnaeendraAdmin\\anaconda3\\Lib\\site-packages\\transformers\\utils\\generic.py:260: FutureWarning: `torch.utils._pytree._register_pytree_node` is deprecated. Please use `torch.utils._pytree.register_pytree_node` instead.\n",
      "  torch.utils._pytree._register_pytree_node(\n"
     ]
    },
    {
     "data": {
      "application/vnd.jupyter.widget-view+json": {
       "model_id": "9c0048f951f64b6c82b4a64053fe79de",
       "version_major": 2,
       "version_minor": 0
      },
      "text/plain": [
       "Downloading config.json:   0%|          | 0.00/1.00k [00:00<?, ?B/s]"
      ]
     },
     "metadata": {},
     "output_type": "display_data"
    },
    {
     "name": "stderr",
     "output_type": "stream",
     "text": [
      "c:\\Users\\PhnaeendraAdmin\\anaconda3\\Lib\\site-packages\\huggingface_hub\\file_download.py:133: UserWarning: `huggingface_hub` cache-system uses symlinks by default to efficiently store duplicated files but your machine does not support them in C:\\Users\\PhnaeendraAdmin\\.cache\\huggingface\\hub. Caching files will still work but in a degraded version that might require more space on your disk. This warning can be disabled by setting the `HF_HUB_DISABLE_SYMLINKS_WARNING` environment variable. For more details, see https://huggingface.co/docs/huggingface_hub/how-to-cache#limitations.\n",
      "To support symlinks on Windows, you either need to activate Developer Mode or to run Python as an administrator. In order to see activate developer mode, see this article: https://docs.microsoft.com/en-us/windows/apps/get-started/enable-your-device-for-development\n",
      "  warnings.warn(message)\n"
     ]
    },
    {
     "data": {
      "application/vnd.jupyter.widget-view+json": {
       "model_id": "25ba56aaa2314e84a0c90f89facb3b4e",
       "version_major": 2,
       "version_minor": 0
      },
      "text/plain": [
       "Downloading pytorch_model.bin:   0%|          | 0.00/329M [00:00<?, ?B/s]"
      ]
     },
     "metadata": {},
     "output_type": "display_data"
    },
    {
     "name": "stderr",
     "output_type": "stream",
     "text": [
      "c:\\Users\\PhnaeendraAdmin\\anaconda3\\Lib\\site-packages\\transformers\\modeling_utils.py:479: FutureWarning: You are using `torch.load` with `weights_only=False` (the current default value), which uses the default pickle module implicitly. It is possible to construct malicious pickle data which will execute arbitrary code during unpickling (See https://github.com/pytorch/pytorch/blob/main/SECURITY.md#untrusted-models for more details). In a future release, the default value for `weights_only` will be flipped to `True`. This limits the functions that could be executed during unpickling. Arbitrary objects will no longer be allowed to be loaded via this mode unless they are explicitly allowlisted by the user via `torch.serialization.add_safe_globals`. We recommend you start setting `weights_only=True` for any use case where you don't have full control of the loaded file. Please open an issue on GitHub for any issues related to this experimental feature.\n",
      "  return torch.load(checkpoint_file, map_location=map_location)\n"
     ]
    },
    {
     "data": {
      "application/vnd.jupyter.widget-view+json": {
       "model_id": "408559c3208f47e997d5e3ae5e1b3219",
       "version_major": 2,
       "version_minor": 0
      },
      "text/plain": [
       "Downloading tokenizer_config.json:   0%|          | 0.00/294 [00:00<?, ?B/s]"
      ]
     },
     "metadata": {},
     "output_type": "display_data"
    },
    {
     "data": {
      "application/vnd.jupyter.widget-view+json": {
       "model_id": "9fb285fbc0ee4a14b544c20444931218",
       "version_major": 2,
       "version_minor": 0
      },
      "text/plain": [
       "Downloading vocab.json:   0%|          | 0.00/798k [00:00<?, ?B/s]"
      ]
     },
     "metadata": {},
     "output_type": "display_data"
    },
    {
     "data": {
      "application/vnd.jupyter.widget-view+json": {
       "model_id": "fd512a9c5620401a8c53ffbf74e7bde3",
       "version_major": 2,
       "version_minor": 0
      },
      "text/plain": [
       "Downloading merges.txt:   0%|          | 0.00/456k [00:00<?, ?B/s]"
      ]
     },
     "metadata": {},
     "output_type": "display_data"
    },
    {
     "data": {
      "application/vnd.jupyter.widget-view+json": {
       "model_id": "5cd51521fbf742cbae032daae652e3b9",
       "version_major": 2,
       "version_minor": 0
      },
      "text/plain": [
       "Downloading tokenizer.json:   0%|          | 0.00/1.36M [00:00<?, ?B/s]"
      ]
     },
     "metadata": {},
     "output_type": "display_data"
    },
    {
     "data": {
      "application/vnd.jupyter.widget-view+json": {
       "model_id": "4278e13fc40b4f229e7d21dd86d98113",
       "version_major": 2,
       "version_minor": 0
      },
      "text/plain": [
       "Downloading (…)cial_tokens_map.json:   0%|          | 0.00/239 [00:00<?, ?B/s]"
      ]
     },
     "metadata": {},
     "output_type": "display_data"
    },
    {
     "name": "stderr",
     "output_type": "stream",
     "text": [
      "c:\\Users\\PhnaeendraAdmin\\anaconda3\\Lib\\site-packages\\transformers\\pipelines\\text_classification.py:105: UserWarning: `return_all_scores` is now deprecated,  if want a similar functionality use `top_k=None` instead of `return_all_scores=True` or `top_k=1` instead of `return_all_scores=False`.\n",
      "  warnings.warn(\n"
     ]
    }
   ],
   "source": [
    "from transformers import pipeline\n",
    "classifier = pipeline(\"text-classification\", model=\"j-hartmann/emotion-english-distilroberta-base\", return_all_scores=True)"
   ]
  },
  {
   "cell_type": "code",
   "execution_count": 3,
   "metadata": {},
   "outputs": [
    {
     "name": "stdout",
     "output_type": "stream",
     "text": [
      "Accuracy of emotion matching between truncated and non-truncated lyrics: 79.61%\n"
     ]
    }
   ],
   "source": [
    "import pandas as pd\n",
    "from transformers import AutoTokenizer, pipeline\n",
    "\n",
    "# Load pre-trained tokenizer and classifier (using your specific classifier)\n",
    "tokenizer = AutoTokenizer.from_pretrained(\"facebook/bart-large-cnn\")\n",
    "classifier = pipeline(\"text-classification\", model=\"j-hartmann/emotion-english-distilroberta-base\", return_all_scores=True)\n",
    "\n",
    "# Load the CSV files\n",
    "lyrics_df = pd.read_csv(\"lyrics_CSV.csv\")\n",
    "lyrics_sum_df = pd.read_csv(\"Sum_lyrics.csv\")\n",
    "\n",
    "# Ensure both files have the same number of rows\n",
    "if len(lyrics_df) != len(lyrics_sum_df):\n",
    "    raise ValueError(\"The two CSV files must have the same number of rows.\")\n",
    "\n",
    "# Function to truncate lyrics to 512 tokens\n",
    "def truncate_to_512_tokens(text):\n",
    "    encoded_input = tokenizer(text, truncation=True, max_length=512, return_tensors=\"pt\")\n",
    "    return tokenizer.decode(encoded_input['input_ids'][0], skip_special_tokens=True)\n",
    "\n",
    "# Function to classify lyrics and return the emotion with the highest score\n",
    "def get_top_emotion(text):\n",
    "    result = classifier(text)[0]\n",
    "    # Select the label with the highest score from the returned scores\n",
    "    return max(result, key=lambda x: x['score'])['label']\n",
    "\n",
    "# Add an Emotion column to both DataFrames\n",
    "lyrics_df['Emotion'] = lyrics_df['Lyrics'].apply(lambda x: get_top_emotion(truncate_to_512_tokens(x)))\n",
    "lyrics_sum_df['Emotion'] = lyrics_sum_df['Sum Lyrics'].apply(lambda x: get_top_emotion(x))\n",
    "\n",
    "# Now compare the Emotion columns line by line\n",
    "total_songs = len(lyrics_df)\n",
    "matches = sum(lyrics_df['Emotion'].str.lower() == lyrics_sum_df['Emotion'].str.lower())\n",
    "\n",
    "# Calculate the accuracy percentage\n",
    "accuracy = (matches / total_songs) * 100\n",
    "\n",
    "# Print the accuracy result\n",
    "print(f\"Accuracy of emotion matching between truncated and non-truncated lyrics: {accuracy:.2f}%\")\n",
    "\n",
    "# Save the updated CSVs with Emotion fields\n",
    "lyrics_df.to_csv(\"lyrics_with_emotions.csv\", index=False)\n",
    "lyrics_sum_df.to_csv(\"lyrics_sum_with_emotions.csv\", index=False)\n"
   ]
  },
  {
   "cell_type": "code",
   "execution_count": 4,
   "metadata": {},
   "outputs": [
    {
     "name": "stderr",
     "output_type": "stream",
     "text": [
      "c:\\Users\\PhnaeendraAdmin\\anaconda3\\Lib\\site-packages\\transformers\\modeling_utils.py:479: FutureWarning: You are using `torch.load` with `weights_only=False` (the current default value), which uses the default pickle module implicitly. It is possible to construct malicious pickle data which will execute arbitrary code during unpickling (See https://github.com/pytorch/pytorch/blob/main/SECURITY.md#untrusted-models for more details). In a future release, the default value for `weights_only` will be flipped to `True`. This limits the functions that could be executed during unpickling. Arbitrary objects will no longer be allowed to be loaded via this mode unless they are explicitly allowlisted by the user via `torch.serialization.add_safe_globals`. We recommend you start setting `weights_only=True` for any use case where you don't have full control of the loaded file. Please open an issue on GitHub for any issues related to this experimental feature.\n",
      "  return torch.load(checkpoint_file, map_location=map_location)\n",
      "c:\\Users\\PhnaeendraAdmin\\anaconda3\\Lib\\site-packages\\transformers\\pipelines\\text_classification.py:105: UserWarning: `return_all_scores` is now deprecated,  if want a similar functionality use `top_k=None` instead of `return_all_scores=True` or `top_k=1` instead of `return_all_scores=False`.\n",
      "  warnings.warn(\n",
      "Token indices sequence length is longer than the specified maximum sequence length for this model (1293 > 1024). Running this sequence through the model will result in indexing errors\n"
     ]
    },
    {
     "name": "stdout",
     "output_type": "stream",
     "text": [
      "Accuracy of emotion matching between split and non-split lyrics: 76.34%\n"
     ]
    }
   ],
   "source": [
    "import pandas as pd\n",
    "from transformers import AutoTokenizer, pipeline\n",
    "\n",
    "# Load pre-trained tokenizer and classifier\n",
    "tokenizer = AutoTokenizer.from_pretrained(\"facebook/bart-large-cnn\")\n",
    "classifier = pipeline(\"text-classification\", model=\"j-hartmann/emotion-english-distilroberta-base\", return_all_scores=True)\n",
    "\n",
    "# Load the CSV files\n",
    "lyrics_df = pd.read_csv(\"lyrics_CSV.csv\")\n",
    "lyrics_sum_df = pd.read_csv(\"Sum_lyrics.csv\")\n",
    "\n",
    "# Function to split lyrics into chunks of less than 512 tokens\n",
    "def split_into_chunks(text, max_tokens=512):\n",
    "    tokens = tokenizer.encode(text)\n",
    "    return [tokenizer.decode(tokens[i:i + max_tokens], skip_special_tokens=True) \n",
    "             for i in range(0, len(tokens), max_tokens) if len(tokens[i:i + max_tokens]) < max_tokens]\n",
    "\n",
    "# Function to classify and average scores\n",
    "def classify_and_average(text):\n",
    "    chunks = split_into_chunks(text)\n",
    "    total_scores = {}\n",
    "    num_chunks = len(chunks)\n",
    "\n",
    "    for chunk in chunks:\n",
    "        results = classifier(chunk)[0]\n",
    "        for result in results:\n",
    "            label = result['label']\n",
    "            score = result['score']\n",
    "            if label not in total_scores:\n",
    "                total_scores[label] = 0\n",
    "            total_scores[label] += score\n",
    "    \n",
    "    # Average scores\n",
    "    for label in total_scores:\n",
    "        total_scores[label] /= num_chunks\n",
    "    \n",
    "    # Get the emotion with the highest average score\n",
    "    return max(total_scores, key=total_scores.get)\n",
    "\n",
    "# Add an Emotion column to the lyrics DataFrame\n",
    "lyrics_df['Emotion'] = lyrics_df['Lyrics'].apply(classify_and_average)\n",
    "\n",
    "# For the second file, classify the full lyrics\n",
    "lyrics_sum_df['Emotion'] = lyrics_sum_df['Sum Lyrics'].apply(lambda x: get_top_emotion(x))\n",
    "\n",
    "# Compare the Emotion columns line by line\n",
    "total_songs = len(lyrics_df)\n",
    "matches = sum(lyrics_df['Emotion'].str.lower() == lyrics_sum_df['Emotion'].str.lower())\n",
    "\n",
    "# Calculate the accuracy percentage\n",
    "accuracy = (matches / total_songs) * 100\n",
    "\n",
    "# Print the accuracy result\n",
    "print(f\"Accuracy of emotion matching between split and non-split lyrics: {accuracy:.2f}%\")\n",
    "\n",
    "# Save the updated CSVs with Emotion fields\n",
    "lyrics_df.to_csv(\"lyrics_with_emotions.csv\", index=False)\n",
    "lyrics_sum_df.to_csv(\"lyrics_sum_with_emotions.csv\", index=False)\n"
   ]
  },
  {
   "cell_type": "code",
   "execution_count": null,
   "metadata": {},
   "outputs": [],
   "source": []
  }
 ],
 "metadata": {
  "kernelspec": {
   "display_name": "base",
   "language": "python",
   "name": "python3"
  },
  "language_info": {
   "codemirror_mode": {
    "name": "ipython",
    "version": 3
   },
   "file_extension": ".py",
   "mimetype": "text/x-python",
   "name": "python",
   "nbconvert_exporter": "python",
   "pygments_lexer": "ipython3",
   "version": "3.11.5"
  }
 },
 "nbformat": 4,
 "nbformat_minor": 2
}
