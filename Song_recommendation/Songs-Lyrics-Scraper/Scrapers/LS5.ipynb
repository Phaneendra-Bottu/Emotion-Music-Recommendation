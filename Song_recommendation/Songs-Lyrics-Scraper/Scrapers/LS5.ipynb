{
 "cells": [
  {
   "cell_type": "code",
   "execution_count": 1,
   "metadata": {},
   "outputs": [],
   "source": [
    "from urllib.request import urlopen\n",
    "from bs4 import BeautifulSoup\n",
    "from time import sleep\n",
    "import csv\n",
    "import json\n",
    "import re"
   ]
  },
  {
   "cell_type": "code",
   "execution_count": 2,
   "metadata": {},
   "outputs": [],
   "source": [
    "# file containing artists - songs mapping\n",
    "songs_json = \"Artists-Songs Mapping.json\"\n",
    "songs_dict = {}\n",
    "\n",
    "with open(songs_json) as file:\n",
    "    songs_dict = json.load(file)\n",
    "    "
   ]
  },
  {
   "cell_type": "code",
   "execution_count": 3,
   "metadata": {},
   "outputs": [
    {
     "name": "stdout",
     "output_type": "stream",
     "text": [
      "29\n",
      "29\n",
      "['bemybaby', 'thewayftmacmiller', 'breakfree', 'only1', 'babyi', 'handsonme', 'myeverything', 'popularsongwithmika', 'lovemeharder', 'daydreamin', 'piano', 'almostisneverenoughwithnathansykesfromthewanted', 'bestmistake', 'bestmis', 'breakyourheartrightback', 'bangbang', 'betterleftunsaid', 'tattooedheart', 'lovinit', 'youllneverknow']\n"
     ]
    }
   ],
   "source": [
    "# artist for which the lyrics need to be written\n",
    "artist = \"arianagrande\"\n",
    "songs = songs_dict[artist]\n",
    "processed_songs = []\n",
    "\n",
    "# preprocessing the songs name for scraping\n",
    "for song in songs:\n",
    "    numbers_in_brackets_removed = re.sub(r'\\(.*\\)',\"\",song)\n",
    "    processed_song = re.sub(r'\\W+', '', numbers_in_brackets_removed).lower()\n",
    "    processed_songs.append(processed_song)\n",
    "    \n",
    "print(len(processed_songs))\n",
    "\n",
    "# Removing duplicate songs\n",
    "processed_songs = list(set(processed_songs))\n",
    "print(len(processed_songs))\n",
    "print(processed_songs[:20])"
   ]
  },
  {
   "cell_type": "code",
   "execution_count": 4,
   "metadata": {},
   "outputs": [
    {
     "name": "stdout",
     "output_type": "stream",
     "text": [
      "Lyrics successfully written to file for : \"Be My Baby\"\n",
      "Lyrics not found for : thewayftmacmiller\n",
      "Lyrics successfully written to file for : \"Break Free\"\n",
      "Lyrics successfully written to file for : \"Only 1\"\n",
      "Lyrics successfully written to file for : \"Baby I\"\n",
      "Lyrics successfully written to file for : \"Hands On Me\"\n",
      "Lyrics successfully written to file for : \"My Everything\"\n",
      "Lyrics not found for : popularsongwithmika\n",
      "Lyrics successfully written to file for : \"Love Me Harder\"\n",
      "Lyrics successfully written to file for : \"Daydreamin'\"\n",
      "Lyrics successfully written to file for : \"Piano\"\n",
      "Lyrics not found for : almostisneverenoughwithnathansykesfromthewanted\n",
      "Lyrics successfully written to file for : \"Best Mistake\"\n",
      "Lyrics not found for : bestmis\n",
      "Lyrics successfully written to file for : \"Break Your Heart Right Back\"\n",
      "Lyrics not found for : bangbang\n",
      "Lyrics successfully written to file for : \"Better Left Unsaid\"\n",
      "Lyrics successfully written to file for : \"Tattooed Heart\"\n",
      "Lyrics successfully written to file for : \"Lovin' It\"\n",
      "Lyrics successfully written to file for : \"You'll Never Know\"\n",
      "Lyrics successfully written to file for : \"One Last Time\"\n",
      "Lyrics successfully written to file for : \"Why Try\"\n",
      "Lyrics successfully written to file for : \"Intro\"\n",
      "Lyrics successfully written to file for : \"You Don't Know Me\"\n",
      "Lyrics successfully written to file for : \"Just A Little Bit Of Your Heart\"\n",
      "Lyrics successfully written to file for : \"Problem\"\n",
      "Lyrics not found for : rightthereftbigsean\n",
      "Lyrics not found for : alittlebitofyourheart\n",
      "Lyrics successfully written to file for : \"Honeymoon Avenue\"\n"
     ]
    }
   ],
   "source": [
    "# url to scrape the lyrics from\n",
    "base_url = \"https://www.azlyrics.com/lyrics/{}/{}.html\"\n",
    "\n",
    "# file in which the lyrics would be saved\n",
    "lyrics_file = \"lyrics_scraped5.txt\"\n",
    "\n",
    "lyrics_not_found_for = []\n",
    "\n",
    "# delay after each execution of call for not exceeding the requests count and also not to overburden the server\n",
    "delay = 10\n",
    "\n",
    "with open(lyrics_file, \"w\") as file:\n",
    "    \n",
    "    for song in processed_songs:\n",
    "        final_url = base_url.format(artist,song)\n",
    "\n",
    "        try:\n",
    "            html_page = urlopen(final_url)\n",
    "            soup = BeautifulSoup(html_page, 'html.parser')\n",
    "\n",
    "            html_pointer = soup.find('div', attrs={'class':'ringtone'})\n",
    "            song_name = html_pointer.find_next('b').contents[0].strip()\n",
    "            lyrics = html_pointer.find_next('div').text.strip()\n",
    "\n",
    "            file.write(\"###\"+song_name+\"###\")\n",
    "            file.write(\"\\n\\n\")\n",
    "            file.write(lyrics)\n",
    "            file.write(\"\\n\\n\")\n",
    "            \n",
    "            print(\"Lyrics successfully written to file for : \" + song_name)\n",
    "            \n",
    "        except:\n",
    "            print(\"Lyrics not found for : \" + song) \n",
    "            lyrics_not_found_for.append(song)\n",
    "            \n",
    "        finally:\n",
    "            sleep(delay)\n",
    "            "
   ]
  },
  {
   "cell_type": "code",
   "execution_count": 5,
   "metadata": {},
   "outputs": [
    {
     "name": "stdout",
     "output_type": "stream",
     "text": [
      "Total count :  29 songs\n",
      "Lyrics successfully scraped for :  22 songs\n",
      "Lyrics not found for : 7 songs\n",
      "\n",
      "\n",
      "Here's the list :\n",
      "\n",
      "['thewayftmacmiller', 'popularsongwithmika', 'almostisneverenoughwithnathansykesfromthewanted', 'bestmis', 'bangbang', 'rightthereftbigsean', 'alittlebitofyourheart']\n"
     ]
    }
   ],
   "source": [
    "print(\"Total count : \", len(songs),\"songs\")\n",
    "print(\"Lyrics successfully scraped for : \", len(songs)-len(lyrics_not_found_for), \"songs\")\n",
    "print(\"Lyrics not found for :\", len(lyrics_not_found_for),\"songs\\n\")\n",
    "print(\"\\nHere's the list :\\n\")\n",
    "print(lyrics_not_found_for)"
   ]
  }
 ],
 "metadata": {
  "kernelspec": {
   "display_name": "base",
   "language": "python",
   "name": "python3"
  },
  "language_info": {
   "codemirror_mode": {
    "name": "ipython",
    "version": 3
   },
   "file_extension": ".py",
   "mimetype": "text/x-python",
   "name": "python",
   "nbconvert_exporter": "python",
   "pygments_lexer": "ipython3",
   "version": "3.11.5"
  }
 },
 "nbformat": 4,
 "nbformat_minor": 2
}
