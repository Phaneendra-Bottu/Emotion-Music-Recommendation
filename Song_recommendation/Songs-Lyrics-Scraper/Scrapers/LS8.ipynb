{
 "cells": [
  {
   "cell_type": "code",
   "execution_count": 1,
   "metadata": {},
   "outputs": [],
   "source": [
    "from urllib.request import urlopen\n",
    "from bs4 import BeautifulSoup\n",
    "from time import sleep\n",
    "import csv\n",
    "import json\n",
    "import re"
   ]
  },
  {
   "cell_type": "code",
   "execution_count": 2,
   "metadata": {},
   "outputs": [],
   "source": [
    "# file containing artists - songs mapping\n",
    "songs_json = \"Artists-Songs Mapping.json\"\n",
    "songs_dict = {}\n",
    "\n",
    "with open(songs_json) as file:\n",
    "    songs_dict = json.load(file)\n",
    "    "
   ]
  },
  {
   "cell_type": "code",
   "execution_count": 3,
   "metadata": {},
   "outputs": [
    {
     "name": "stdout",
     "output_type": "stream",
     "text": [
      "64\n",
      "60\n",
      "['mustgetout', 'tangled', 'inyourpocket', 'thislove', 'highwaytohell', 'dontknownothing', 'nothinglastsforever', 'comingbackforyou', 'moveslikejagger', 'unkissme', 'newlove', 'notfallingapart', 'feelings', 'thissummersgonnahurtlikeamotherfr', 'missyouloveyou', 'icantlie', 'stutter', 'littleofyourtime', 'outofgoodbyeswithladyantebellum', 'infatuation']\n"
     ]
    }
   ],
   "source": [
    "# artist for which the lyrics need to be written\n",
    "artist = \"maroon5\"\n",
    "songs = songs_dict[artist]\n",
    "processed_songs = []\n",
    "\n",
    "# preprocessing the songs name for scraping\n",
    "for song in songs:\n",
    "    numbers_in_brackets_removed = re.sub(r'\\(.*\\)',\"\",song)\n",
    "    processed_song = re.sub(r'\\W+', '', numbers_in_brackets_removed).lower()\n",
    "    processed_songs.append(processed_song)\n",
    "    \n",
    "print(len(processed_songs))\n",
    "\n",
    "# Removing duplicate songs\n",
    "processed_songs = list(set(processed_songs))\n",
    "print(len(processed_songs))\n",
    "print(processed_songs[:20])"
   ]
  },
  {
   "cell_type": "code",
   "execution_count": 4,
   "metadata": {},
   "outputs": [
    {
     "name": "stdout",
     "output_type": "stream",
     "text": [
      "Lyrics successfully written to file for : \"Must Get Out\"\n",
      "Lyrics successfully written to file for : \"Tangled\"\n",
      "Lyrics successfully written to file for : \"In Your Pocket\"\n",
      "Lyrics successfully written to file for : \"This Love\"\n",
      "Lyrics successfully written to file for : \"Highway To Hell\"\n",
      "Lyrics successfully written to file for : \"Don't Know Nothing\"\n",
      "Lyrics successfully written to file for : \"Nothing Lasts Forever\"\n",
      "Lyrics successfully written to file for : \"Coming Back For You\"\n",
      "Lyrics successfully written to file for : \"Moves Like Jagger\"\n",
      "Lyrics successfully written to file for : \"Unkiss Me\"\n",
      "Lyrics successfully written to file for : \"New Love\"\n",
      "Lyrics successfully written to file for : \"Not Falling Apart\"\n",
      "Lyrics successfully written to file for : \"Feelings\"\n",
      "Lyrics not found for : thissummersgonnahurtlikeamotherfr\n",
      "Lyrics successfully written to file for : \"Miss You, Love You\"\n",
      "Lyrics successfully written to file for : \"I Can't Lie\"\n",
      "Lyrics successfully written to file for : \"Stutter\"\n",
      "Lyrics successfully written to file for : \"Little Of Your Time\"\n",
      "Lyrics not found for : outofgoodbyeswithladyantebellum\n",
      "Lyrics successfully written to file for : \"Infatuation\"\n",
      "Lyrics successfully written to file for : \"Back At Your Door\"\n",
      "Lyrics successfully written to file for : \"Sex And Candy\"\n",
      "Lyrics successfully written to file for : \"Wake Up Call\"\n",
      "Lyrics successfully written to file for : \"Losing My Mind\"\n",
      "Lyrics successfully written to file for : \"Shiver\"\n",
      "Lyrics successfully written to file for : \"Hands All Over\"\n",
      "Lyrics successfully written to file for : \"If I Never See Your Face Again\"\n",
      "Lyrics successfully written to file for : \"Harder To Breathe\"\n",
      "Lyrics successfully written to file for : \"It Was Always You\"\n",
      "Lyrics successfully written to file for : \"Maps\"\n",
      "Lyrics successfully written to file for : \"Runaway\"\n",
      "Lyrics successfully written to file for : \"Secret\"\n",
      "Lyrics successfully written to file for : \"Can't Stop\"\n",
      "Lyrics successfully written to file for : \"Story\"\n",
      "Lyrics successfully written to file for : \"Won't Go Home Without You\"\n",
      "Lyrics successfully written to file for : \"Shoot Love\"\n",
      "Lyrics successfully written to file for : \"Sugar\"\n",
      "Lyrics successfully written to file for : \"Give A Little More\"\n",
      "Lyrics successfully written to file for : \"My Heart Is Open\"\n",
      "Lyrics successfully written to file for : \"Not Coming Home\"\n",
      "Lyrics successfully written to file for : \"Makes Me Wonder\"\n",
      "Lyrics successfully written to file for : \"She Will Be Loved\"\n",
      "Lyrics successfully written to file for : \"Sweetest Goodbye\"\n",
      "Lyrics successfully written to file for : \"Lost Stars\"\n",
      "Lyrics successfully written to file for : \"The Sun\"\n",
      "Lyrics not found for : ififellinlovewithyou\n",
      "Lyrics successfully written to file for : \"Leaving California\"\n",
      "Lyrics successfully written to file for : \"Misery\"\n",
      "Lyrics successfully written to file for : \"Never Gonna Leave This Bed\"\n",
      "Lyrics successfully written to file for : \"If I Fell\"\n",
      "Lyrics successfully written to file for : \"Better That We Break\"\n",
      "Lyrics successfully written to file for : \"Sunday Morning\"\n",
      "Lyrics successfully written to file for : \"Through With You\"\n",
      "Lyrics successfully written to file for : \"Kiwi\"\n",
      "Lyrics successfully written to file for : \"Goodnight Goodnight\"\n",
      "Lyrics successfully written to file for : \"Until You're Over Me\"\n",
      "Lyrics successfully written to file for : \"Get Back In My Life\"\n",
      "Lyrics successfully written to file for : \"Just A Feeling\"\n",
      "Lyrics successfully written to file for : \"Animals\"\n",
      "Lyrics successfully written to file for : \"How\"\n"
     ]
    }
   ],
   "source": [
    "# url to scrape the lyrics from\n",
    "base_url = \"https://www.azlyrics.com/lyrics/{}/{}.html\"\n",
    "\n",
    "# file in which the lyrics would be saved\n",
    "lyrics_file = \"lyrics_scraped8.txt\"\n",
    "\n",
    "lyrics_not_found_for = []\n",
    "\n",
    "# delay after each execution of call for not exceeding the requests count and also not to overburden the server\n",
    "delay = 10\n",
    "\n",
    "with open(lyrics_file, \"w\") as file:\n",
    "    \n",
    "    for song in processed_songs:\n",
    "        final_url = base_url.format(artist,song)\n",
    "\n",
    "        try:\n",
    "            html_page = urlopen(final_url)\n",
    "            soup = BeautifulSoup(html_page, 'html.parser')\n",
    "\n",
    "            html_pointer = soup.find('div', attrs={'class':'ringtone'})\n",
    "            song_name = html_pointer.find_next('b').contents[0].strip()\n",
    "            lyrics = html_pointer.find_next('div').text.strip()\n",
    "\n",
    "            file.write(\"###\"+song_name+\"###\")\n",
    "            file.write(\"\\n\\n\")\n",
    "            file.write(lyrics)\n",
    "            file.write(\"\\n\\n\")\n",
    "            \n",
    "            print(\"Lyrics successfully written to file for : \" + song_name)\n",
    "            \n",
    "        except:\n",
    "            print(\"Lyrics not found for : \" + song) \n",
    "            lyrics_not_found_for.append(song)\n",
    "            \n",
    "        finally:\n",
    "            sleep(delay)\n",
    "            "
   ]
  },
  {
   "cell_type": "code",
   "execution_count": 5,
   "metadata": {},
   "outputs": [
    {
     "name": "stdout",
     "output_type": "stream",
     "text": [
      "Total count :  64 songs\n",
      "Lyrics successfully scraped for :  61 songs\n",
      "Lyrics not found for : 3 songs\n",
      "\n",
      "\n",
      "Here's the list :\n",
      "\n",
      "['thissummersgonnahurtlikeamotherfr', 'outofgoodbyeswithladyantebellum', 'ififellinlovewithyou']\n"
     ]
    }
   ],
   "source": [
    "print(\"Total count : \", len(songs),\"songs\")\n",
    "print(\"Lyrics successfully scraped for : \", len(songs)-len(lyrics_not_found_for), \"songs\")\n",
    "print(\"Lyrics not found for :\", len(lyrics_not_found_for),\"songs\\n\")\n",
    "print(\"\\nHere's the list :\\n\")\n",
    "print(lyrics_not_found_for)"
   ]
  }
 ],
 "metadata": {
  "kernelspec": {
   "display_name": "base",
   "language": "python",
   "name": "python3"
  },
  "language_info": {
   "codemirror_mode": {
    "name": "ipython",
    "version": 3
   },
   "file_extension": ".py",
   "mimetype": "text/x-python",
   "name": "python",
   "nbconvert_exporter": "python",
   "pygments_lexer": "ipython3",
   "version": "3.11.5"
  }
 },
 "nbformat": 4,
 "nbformat_minor": 2
}
