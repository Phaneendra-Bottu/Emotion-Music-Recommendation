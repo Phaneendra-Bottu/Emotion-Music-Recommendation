{
 "cells": [
  {
   "cell_type": "code",
   "execution_count": 1,
   "metadata": {},
   "outputs": [],
   "source": [
    "from urllib.request import urlopen\n",
    "from bs4 import BeautifulSoup\n",
    "from time import sleep\n",
    "import csv\n",
    "import json\n",
    "import re"
   ]
  },
  {
   "cell_type": "code",
   "execution_count": 2,
   "metadata": {},
   "outputs": [],
   "source": [
    "# file containing artists - songs mapping\n",
    "songs_json = \"Artists-Songs Mapping.json\"\n",
    "songs_dict = {}\n",
    "\n",
    "with open(songs_json) as file:\n",
    "    songs_dict = json.load(file)\n",
    "    "
   ]
  },
  {
   "cell_type": "code",
   "execution_count": 3,
   "metadata": {},
   "outputs": [
    {
     "name": "stdout",
     "output_type": "stream",
     "text": [
      "70\n",
      "70\n",
      "['belikeyou', 'barcelona', 'bibiabeyeye', 'takeitbacksuperstition', 'coldcoffee', 'savemyself', 'theman', 'allofthestars', 'goodbyetoyou', 'uni', 'imamess', 'happier', 'nightmares', 'heartsdontbreakaroundhere', 'newman', 'howwouldyoufeel', 'littlelady', 'fall', 'givemelove', 'nancymulligan']\n"
     ]
    }
   ],
   "source": [
    "# artist for which the lyrics need to be written\n",
    "artist = \"edsheeran\"\n",
    "songs = songs_dict[artist]\n",
    "processed_songs = []\n",
    "\n",
    "# preprocessing the songs name for scraping\n",
    "for song in songs:\n",
    "    numbers_in_brackets_removed = re.sub(r'\\(.*\\)',\"\",song)\n",
    "    processed_song = re.sub(r'\\W+', '', numbers_in_brackets_removed).lower()\n",
    "    processed_songs.append(processed_song)\n",
    "    \n",
    "print(len(processed_songs))\n",
    "\n",
    "# Removing duplicate songs\n",
    "processed_songs = list(set(processed_songs))\n",
    "print(len(processed_songs))\n",
    "print(processed_songs[:20])"
   ]
  },
  {
   "cell_type": "code",
   "execution_count": 4,
   "metadata": {},
   "outputs": [
    {
     "name": "stdout",
     "output_type": "stream",
     "text": [
      "Lyrics successfully written to file for : \"Be Like You\"\n",
      "Lyrics successfully written to file for : \"Barcelona\"\n",
      "Lyrics successfully written to file for : \"Bibia Be Ye Ye\"\n",
      "Lyrics not found for : takeitbacksuperstition\n",
      "Lyrics successfully written to file for : \"Cold Coffee\"\n",
      "Lyrics successfully written to file for : \"Save Myself\"\n",
      "Lyrics successfully written to file for : \"The Man\"\n",
      "Lyrics successfully written to file for : \"All Of The Stars\"\n",
      "Lyrics successfully written to file for : \"Goodbye To You\"\n",
      "Lyrics successfully written to file for : \"UNI\"\n",
      "Lyrics successfully written to file for : \"I'm A Mess\"\n",
      "Lyrics successfully written to file for : \"Happier\"\n",
      "Lyrics successfully written to file for : \"Nightmares\"\n",
      "Lyrics successfully written to file for : \"Hearts Don't Break Around Here\"\n",
      "Lyrics successfully written to file for : \"New Man\"\n",
      "Lyrics not found for : howwouldyoufeel\n",
      "Lyrics successfully written to file for : \"Little Lady\"\n",
      "Lyrics successfully written to file for : \"Fall\"\n",
      "Lyrics successfully written to file for : \"Give Me Love\"\n",
      "Lyrics successfully written to file for : \"Nancy Mulligan\"\n",
      "Lyrics successfully written to file for : \"One\"\n",
      "Lyrics successfully written to file for : \"Perfect\"\n",
      "Lyrics successfully written to file for : \"Photograph\"\n",
      "Lyrics successfully written to file for : \"Sing\"\n",
      "Lyrics successfully written to file for : \"Castle On The Hill\"\n",
      "Lyrics successfully written to file for : \"Galway Girl\"\n",
      "Lyrics successfully written to file for : \"Grade 8\"\n",
      "Lyrics successfully written to file for : \"Homeless\"\n",
      "Lyrics successfully written to file for : \"New York\"\n",
      "Lyrics successfully written to file for : \"Fire Alarms\"\n",
      "Lyrics successfully written to file for : \"Afire Love\"\n",
      "Lyrics successfully written to file for : \"Dive\"\n",
      "Lyrics successfully written to file for : \"Shape Of You\"\n",
      "Lyrics successfully written to file for : \"Let It Out\"\n",
      "Lyrics successfully written to file for : \"Drunk\"\n",
      "Lyrics successfully written to file for : \"Sofa\"\n",
      "Lyrics successfully written to file for : \"Sunburn\"\n",
      "Lyrics successfully written to file for : \"I See Fire\"\n",
      "Lyrics successfully written to file for : \"You\"\n",
      "Lyrics successfully written to file for : \"You Need Me, I Don't Need You\"\n",
      "Lyrics successfully written to file for : \"Drown Me Out\"\n",
      "Lyrics successfully written to file for : \"So\"\n",
      "Lyrics successfully written to file for : \"Lego House\"\n",
      "Lyrics successfully written to file for : \"Thinking Out Loud\"\n",
      "Lyrics successfully written to file for : \"Where We Land\"\n",
      "Lyrics successfully written to file for : \"Eraser\"\n",
      "Lyrics not found for : dontgobreakingmyheart\n",
      "Lyrics successfully written to file for : \"Kiss Me\"\n",
      "Lyrics successfully written to file for : \"Runaway\"\n",
      "Lyrics not found for : layitallonme\n",
      "Lyrics successfully written to file for : \"Tenerife Sea\"\n",
      "Lyrics successfully written to file for : \"What Do I Know?\"\n",
      "Lyrics successfully written to file for : \"Family\"\n",
      "Lyrics successfully written to file for : \"The City\"\n",
      "Lyrics successfully written to file for : \"English Rose\"\n",
      "Lyrics successfully written to file for : \"The A Team\"\n",
      "Lyrics successfully written to file for : \"Lately\"\n",
      "Lyrics successfully written to file for : \"Supermarket Flowers\"\n",
      "Lyrics successfully written to file for : \"Touch And Go\"\n",
      "Lyrics not found for : bloodstream\n",
      "Lyrics not found for : radio\n",
      "Lyrics not found for : she\n",
      "Lyrics not found for : this\n",
      "Lyrics not found for : wakemeup\n",
      "Lyrics not found for : dont\n",
      "Lyrics not found for : firefly\n",
      "Lyrics not found for : onenight\n",
      "Lyrics not found for : littlebird\n",
      "Lyrics not found for : smallbump\n",
      "Lyrics not found for : nina\n"
     ]
    }
   ],
   "source": [
    "# url to scrape the lyrics from\n",
    "base_url = \"https://www.azlyrics.com/lyrics/{}/{}.html\"\n",
    "\n",
    "# file in which the lyrics would be saved\n",
    "lyrics_file = \"lyrics_scraped2.txt\"\n",
    "\n",
    "lyrics_not_found_for = []\n",
    "\n",
    "# delay after each execution of call for not exceeding the requests count and also not to overburden the server\n",
    "delay = 10\n",
    "\n",
    "with open(lyrics_file, \"w\") as file:\n",
    "    \n",
    "    for song in processed_songs:\n",
    "        final_url = base_url.format(artist,song)\n",
    "\n",
    "        try:\n",
    "            html_page = urlopen(final_url)\n",
    "            soup = BeautifulSoup(html_page, 'html.parser')\n",
    "\n",
    "            html_pointer = soup.find('div', attrs={'class':'ringtone'})\n",
    "            song_name = html_pointer.find_next('b').contents[0].strip()\n",
    "            lyrics = html_pointer.find_next('div').text.strip()\n",
    "\n",
    "            file.write(\"###\"+song_name+\"###\")\n",
    "            file.write(\"\\n\\n\")\n",
    "            file.write(lyrics)\n",
    "            file.write(\"\\n\\n\")\n",
    "            \n",
    "            print(\"Lyrics successfully written to file for : \" + song_name)\n",
    "            \n",
    "        except:\n",
    "            print(\"Lyrics not found for : \" + song) \n",
    "            lyrics_not_found_for.append(song)\n",
    "            \n",
    "        finally:\n",
    "            sleep(delay)\n",
    "            "
   ]
  },
  {
   "cell_type": "code",
   "execution_count": 5,
   "metadata": {},
   "outputs": [
    {
     "name": "stdout",
     "output_type": "stream",
     "text": [
      "Total count :  70 songs\n",
      "Lyrics successfully scraped for :  55 songs\n",
      "Lyrics not found for : 15 songs\n",
      "\n",
      "\n",
      "Here's the list :\n",
      "\n",
      "['takeitbacksuperstition', 'howwouldyoufeel', 'dontgobreakingmyheart', 'layitallonme', 'bloodstream', 'radio', 'she', 'this', 'wakemeup', 'dont', 'firefly', 'onenight', 'littlebird', 'smallbump', 'nina']\n"
     ]
    }
   ],
   "source": [
    "print(\"Total count : \", len(songs),\"songs\")\n",
    "print(\"Lyrics successfully scraped for : \", len(songs)-len(lyrics_not_found_for), \"songs\")\n",
    "print(\"Lyrics not found for :\", len(lyrics_not_found_for),\"songs\\n\")\n",
    "print(\"\\nHere's the list :\\n\")\n",
    "print(lyrics_not_found_for)"
   ]
  },
  {
   "cell_type": "code",
   "execution_count": null,
   "metadata": {},
   "outputs": [],
   "source": []
  }
 ],
 "metadata": {
  "kernelspec": {
   "display_name": "base",
   "language": "python",
   "name": "python3"
  },
  "language_info": {
   "codemirror_mode": {
    "name": "ipython",
    "version": 3
   },
   "file_extension": ".py",
   "mimetype": "text/x-python",
   "name": "python",
   "nbconvert_exporter": "python",
   "pygments_lexer": "ipython3",
   "version": "3.11.5"
  }
 },
 "nbformat": 4,
 "nbformat_minor": 2
}
