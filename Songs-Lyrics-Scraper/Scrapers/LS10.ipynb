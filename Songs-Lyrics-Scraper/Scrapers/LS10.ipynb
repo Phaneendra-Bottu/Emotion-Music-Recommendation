{
 "cells": [
  {
   "cell_type": "code",
   "execution_count": 1,
   "metadata": {},
   "outputs": [],
   "source": [
    "from urllib.request import urlopen\n",
    "from bs4 import BeautifulSoup\n",
    "from time import sleep\n",
    "import csv\n",
    "import json\n",
    "import re"
   ]
  },
  {
   "cell_type": "code",
   "execution_count": 2,
   "metadata": {},
   "outputs": [],
   "source": [
    "# file containing artists - songs mapping\n",
    "songs_json = \"Artists-Songs Mapping.json\"\n",
    "songs_dict = {}\n",
    "\n",
    "with open(songs_json) as file:\n",
    "    songs_dict = json.load(file)\n",
    "    "
   ]
  },
  {
   "cell_type": "code",
   "execution_count": 3,
   "metadata": {},
   "outputs": [
    {
     "name": "stdout",
     "output_type": "stream",
     "text": [
      "77\n",
      "77\n",
      "['heyangel', 'onething', 'wolves', 'whydontwegothere', 'iwant', 'gottabeyou', 'halfaheart', 'littlethings', 'endoftheday', 'throughthedark', 'dragmedown', 'stilltheone', 'overagain', 'perfect', 'whatafeeling', 'temporaryfix', 'diana', 'lovedyoufirst', 'foolsgold', 'bestsongever']\n"
     ]
    }
   ],
   "source": [
    "# artist for which the lyrics need to be written\n",
    "artist = \"onedirection\"\n",
    "songs = songs_dict[artist]\n",
    "processed_songs = []\n",
    "\n",
    "# preprocessing the songs name for scraping\n",
    "for song in songs:\n",
    "    numbers_in_brackets_removed = re.sub(r'\\(.*\\)',\"\",song)\n",
    "    processed_song = re.sub(r'\\W+', '', numbers_in_brackets_removed).lower()\n",
    "    processed_songs.append(processed_song)\n",
    "    \n",
    "print(len(processed_songs))\n",
    "\n",
    "# Removing duplicate songs\n",
    "processed_songs = list(set(processed_songs))\n",
    "print(len(processed_songs))\n",
    "print(processed_songs[:20])"
   ]
  },
  {
   "cell_type": "code",
   "execution_count": 4,
   "metadata": {},
   "outputs": [
    {
     "name": "stdout",
     "output_type": "stream",
     "text": [
      "Lyrics successfully written to file for : \"Hey Angel\"\n",
      "Lyrics successfully written to file for : \"One Thing\"\n",
      "Lyrics successfully written to file for : \"Wolves\"\n",
      "Lyrics successfully written to file for : \"Why Don't We Go There\"\n",
      "Lyrics successfully written to file for : \"I Want\"\n",
      "Lyrics successfully written to file for : \"Gotta Be You\"\n",
      "Lyrics successfully written to file for : \"Half A Heart\"\n",
      "Lyrics successfully written to file for : \"Little Things\"\n",
      "Lyrics successfully written to file for : \"End Of The Day\"\n",
      "Lyrics successfully written to file for : \"Through The Dark\"\n",
      "Lyrics successfully written to file for : \"Drag Me Down\"\n",
      "Lyrics successfully written to file for : \"Still The One\"\n",
      "Lyrics successfully written to file for : \"Over Again\"\n",
      "Lyrics successfully written to file for : \"Perfect\"\n",
      "Lyrics successfully written to file for : \"What A Feeling\"\n",
      "Lyrics successfully written to file for : \"Temporary Fix\"\n",
      "Lyrics successfully written to file for : \"Diana\"\n",
      "Lyrics successfully written to file for : \"Loved You First\"\n",
      "Lyrics successfully written to file for : \"Fool's Gold\"\n",
      "Lyrics successfully written to file for : \"Best Song Ever\"\n",
      "Lyrics successfully written to file for : \"Change My Mind\"\n",
      "Lyrics successfully written to file for : \"Right Now\"\n",
      "Lyrics successfully written to file for : \"I Wish\"\n",
      "Lyrics successfully written to file for : \"Ready To Run\"\n",
      "Lyrics successfully written to file for : \"More Than This\"\n",
      "Lyrics successfully written to file for : \"Love You Goodbye\"\n",
      "Lyrics successfully written to file for : \"Story Of My Life\"\n",
      "Lyrics successfully written to file for : \"Kiss You\"\n",
      "Lyrics successfully written to file for : \"Better Than Words\"\n",
      "Lyrics successfully written to file for : \"Does He Know?\"\n",
      "Lyrics successfully written to file for : \"No Control\"\n",
      "Lyrics successfully written to file for : \"You & I\"\n",
      "Lyrics successfully written to file for : \"Little White Lies\"\n",
      "Lyrics successfully written to file for : \"Never Enough\"\n",
      "Lyrics successfully written to file for : \"Walking In The Wind\"\n",
      "Lyrics successfully written to file for : \"Live While We're Young\"\n",
      "Lyrics successfully written to file for : \"Stockholm Syndrome\"\n",
      "Lyrics successfully written to file for : \"Midnight Memories\"\n",
      "Lyrics successfully written to file for : \"Girl Almighty\"\n",
      "Lyrics successfully written to file for : \"Little Black Dress\"\n",
      "Lyrics successfully written to file for : \"Don't Forget Where You Belong\"\n",
      "Lyrics successfully written to file for : \"Where Do Broken Hearts Go?\"\n",
      "Lyrics successfully written to file for : \"I Would\"\n",
      "Lyrics successfully written to file for : \"I Want To Write You A Song\"\n",
      "Lyrics successfully written to file for : \"Night Changes\"\n",
      "Lyrics successfully written to file for : \"Tell Me A Lie\"\n",
      "Lyrics successfully written to file for : \"Happily\"\n",
      "Lyrics successfully written to file for : \"Back For You\"\n",
      "Lyrics successfully written to file for : \"Last First Kiss\"\n",
      "Lyrics successfully written to file for : \"Save You Tonight\"\n",
      "Lyrics successfully written to file for : \"Spaces\"\n",
      "Lyrics successfully written to file for : \"Strong\"\n",
      "Lyrics successfully written to file for : \"Olivia\"\n",
      "Lyrics successfully written to file for : \"She's Not Afraid\"\n",
      "Lyrics successfully written to file for : \"Heart Attack\"\n",
      "Lyrics successfully written to file for : \"Summer Love\"\n",
      "Lyrics successfully written to file for : \"Clouds\"\n",
      "Lyrics successfully written to file for : \"Infinity\"\n",
      "Lyrics successfully written to file for : \"Taken\"\n",
      "Lyrics successfully written to file for : \"Something Great\"\n",
      "Lyrics successfully written to file for : \"Everything About You\"\n",
      "Lyrics successfully written to file for : \"C'mon, C'mon\"\n",
      "Lyrics successfully written to file for : \"Stole My Heart\"\n",
      "Lyrics successfully written to file for : \"A.M.\"\n",
      "Lyrics successfully written to file for : \"Steal My Girl\"\n",
      "Lyrics successfully written to file for : \"History\"\n",
      "Lyrics successfully written to file for : \"They Don't Know About Us\"\n",
      "Lyrics successfully written to file for : \"Nobody Compares\"\n",
      "Lyrics successfully written to file for : \"18\"\n",
      "Lyrics successfully written to file for : \"Rock Me\"\n",
      "Lyrics successfully written to file for : \"What Makes You Beautiful\"\n",
      "Lyrics successfully written to file for : \"Same Mistakes\"\n",
      "Lyrics successfully written to file for : \"If I Could Fly\"\n",
      "Lyrics successfully written to file for : \"Alive\"\n",
      "Lyrics successfully written to file for : \"Fireproof\"\n",
      "Lyrics successfully written to file for : \"Up All Night\"\n",
      "Lyrics successfully written to file for : \"Long Way Down\"\n"
     ]
    }
   ],
   "source": [
    "# url to scrape the lyrics from\n",
    "base_url = \"https://www.azlyrics.com/lyrics/{}/{}.html\"\n",
    "\n",
    "# file in which the lyrics would be saved\n",
    "lyrics_file = \"lyrics_scraped10.txt\"\n",
    "\n",
    "lyrics_not_found_for = []\n",
    "\n",
    "# delay after each execution of call for not exceeding the requests count and also not to overburden the server\n",
    "delay = 20\n",
    "\n",
    "with open(lyrics_file, \"w\") as file:\n",
    "    \n",
    "    for song in processed_songs:\n",
    "        final_url = base_url.format(artist,song)\n",
    "\n",
    "        try:\n",
    "            html_page = urlopen(final_url)\n",
    "            soup = BeautifulSoup(html_page, 'html.parser')\n",
    "\n",
    "            html_pointer = soup.find('div', attrs={'class':'ringtone'})\n",
    "            song_name = html_pointer.find_next('b').contents[0].strip()\n",
    "            lyrics = html_pointer.find_next('div').text.strip()\n",
    "\n",
    "            file.write(\"###\"+song_name+\"###\")\n",
    "            file.write(\"\\n\\n\")\n",
    "            file.write(lyrics)\n",
    "            file.write(\"\\n\\n\")\n",
    "            \n",
    "            print(\"Lyrics successfully written to file for : \" + song_name)\n",
    "            \n",
    "        except:\n",
    "            print(\"Lyrics not found for : \" + song) \n",
    "            lyrics_not_found_for.append(song)\n",
    "            \n",
    "        finally:\n",
    "            sleep(delay)\n",
    "            "
   ]
  },
  {
   "cell_type": "code",
   "execution_count": 5,
   "metadata": {},
   "outputs": [
    {
     "name": "stdout",
     "output_type": "stream",
     "text": [
      "Total count :  77 songs\n",
      "Lyrics successfully scraped for :  77 songs\n",
      "Lyrics not found for : 0 songs\n",
      "\n",
      "\n",
      "Here's the list :\n",
      "\n",
      "[]\n"
     ]
    }
   ],
   "source": [
    "print(\"Total count : \", len(songs),\"songs\")\n",
    "print(\"Lyrics successfully scraped for : \", len(songs)-len(lyrics_not_found_for), \"songs\")\n",
    "print(\"Lyrics not found for :\", len(lyrics_not_found_for),\"songs\\n\")\n",
    "print(\"\\nHere's the list :\\n\")\n",
    "print(lyrics_not_found_for)"
   ]
  },
  {
   "cell_type": "code",
   "execution_count": null,
   "metadata": {},
   "outputs": [],
   "source": []
  }
 ],
 "metadata": {
  "kernelspec": {
   "display_name": "base",
   "language": "python",
   "name": "python3"
  },
  "language_info": {
   "codemirror_mode": {
    "name": "ipython",
    "version": 3
   },
   "file_extension": ".py",
   "mimetype": "text/x-python",
   "name": "python",
   "nbconvert_exporter": "python",
   "pygments_lexer": "ipython3",
   "version": "3.11.5"
  }
 },
 "nbformat": 4,
 "nbformat_minor": 2
}
