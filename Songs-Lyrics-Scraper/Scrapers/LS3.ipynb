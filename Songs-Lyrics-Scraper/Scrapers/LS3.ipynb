{
 "cells": [
  {
   "cell_type": "code",
   "execution_count": 1,
   "metadata": {},
   "outputs": [],
   "source": [
    "from urllib.request import urlopen\n",
    "from bs4 import BeautifulSoup\n",
    "from time import sleep\n",
    "import csv\n",
    "import json\n",
    "import re"
   ]
  },
  {
   "cell_type": "code",
   "execution_count": 2,
   "metadata": {},
   "outputs": [],
   "source": [
    "# file containing artists - songs mapping\n",
    "songs_json = \"Artists-Songs Mapping.json\"\n",
    "songs_dict = {}\n",
    "\n",
    "with open(songs_json) as file:\n",
    "    songs_dict = json.load(file)\n",
    "    "
   ]
  },
  {
   "cell_type": "code",
   "execution_count": 3,
   "metadata": {},
   "outputs": [
    {
     "name": "stdout",
     "output_type": "stream",
     "text": [
      "91\n",
      "90\n",
      "['tellmewhy', 'style', 'fearlesstour2009photogallery', 'weareneverevergettingbacktogether', 'stateofgrace', 'thestoryofus', 'changemusicvideo', 'staybeautiful', 'backtodecember', 'theluckyone', 'ialmostdo', 'thelasttime', 'youbelongwithme', 'wildestdreams', 'tiedtogetherwithasmile', 'lovestorybonusvideocontentincludeshomemoviesrehearsalsofthespeaknowworldtourtracklis', 'shouldvesaidno', 'change', 'betterthanrevenge', 'iknewyouweretrouble']\n"
     ]
    }
   ],
   "source": [
    "# artist for which the lyrics need to be written\n",
    "artist = \"taylorswift\"\n",
    "songs = songs_dict[artist]\n",
    "processed_songs = []\n",
    "\n",
    "# preprocessing the songs name for scraping\n",
    "for song in songs:\n",
    "    numbers_in_brackets_removed = re.sub(r'\\(.*\\)',\"\",song)\n",
    "    processed_song = re.sub(r'\\W+', '', numbers_in_brackets_removed).lower()\n",
    "    processed_songs.append(processed_song)\n",
    "    \n",
    "print(len(processed_songs))\n",
    "\n",
    "# Removing duplicate songs\n",
    "processed_songs = list(set(processed_songs))\n",
    "print(len(processed_songs))\n",
    "print(processed_songs[:20])"
   ]
  },
  {
   "cell_type": "code",
   "execution_count": 4,
   "metadata": {},
   "outputs": [
    {
     "name": "stdout",
     "output_type": "stream",
     "text": [
      "Lyrics successfully written to file for : \"Tell Me Why\"\n",
      "Lyrics successfully written to file for : \"Style\"\n",
      "Lyrics not found for : fearlesstour2009photogallery\n",
      "Lyrics successfully written to file for : \"We Are Never Ever Getting Back Together\"\n",
      "Lyrics successfully written to file for : \"State Of Grace\"\n",
      "Lyrics successfully written to file for : \"The Story Of Us\"\n",
      "Lyrics not found for : changemusicvideo\n",
      "Lyrics successfully written to file for : \"Stay Beautiful\"\n",
      "Lyrics successfully written to file for : \"Back To December\"\n",
      "Lyrics successfully written to file for : \"The Lucky One\"\n",
      "Lyrics successfully written to file for : \"I Almost Do\"\n",
      "Lyrics successfully written to file for : \"The Last Time\"\n",
      "Lyrics successfully written to file for : \"You Belong With Me\"\n",
      "Lyrics successfully written to file for : \"Wildest Dreams\"\n",
      "Lyrics successfully written to file for : \"Tied Together With A Smile\"\n",
      "Lyrics not found for : lovestorybonusvideocontentincludeshomemoviesrehearsalsofthespeaknowworldtourtracklis\n",
      "Lyrics successfully written to file for : \"Should've Said No\"\n",
      "Lyrics successfully written to file for : \"Change\"\n",
      "Lyrics successfully written to file for : \"Better Than Revenge\"\n",
      "Lyrics successfully written to file for : \"I Knew You Were Trouble\"\n",
      "Lyrics successfully written to file for : \"Untouchable\"\n",
      "Lyrics successfully written to file for : \"Never Grow Up\"\n",
      "Lyrics successfully written to file for : \"Superstar\"\n",
      "Lyrics successfully written to file for : \"The Other Side Of The Door\"\n",
      "Lyrics successfully written to file for : \"Last Kiss\"\n",
      "Lyrics successfully written to file for : \"Cold As You\"\n",
      "Lyrics successfully written to file for : \"White Horse\"\n",
      "Lyrics successfully written to file for : \"Blank Space\"\n",
      "Lyrics successfully written to file for : \"Hey Stephen\"\n",
      "Lyrics successfully written to file for : \"Fearless\"\n",
      "Lyrics successfully written to file for : \"Picture To Burn\"\n",
      "Lyrics not found for : youbelongwithmeonthesetbehindthescenes\n",
      "Lyrics successfully written to file for : \"Love Story\"\n",
      "Lyrics successfully written to file for : \"Long Live\"\n",
      "Lyrics successfully written to file for : \"Mine\"\n",
      "Lyrics successfully written to file for : \"Begin Again\"\n",
      "Lyrics successfully written to file for : \"Welcome To New York\"\n",
      "Lyrics successfully written to file for : \"Jump Then Fall\"\n",
      "Lyrics successfully written to file for : \"A Place In This World\"\n",
      "Lyrics not found for : whitehorsemusicvideo\n",
      "Lyrics successfully written to file for : \"Holy Ground\"\n",
      "Lyrics successfully written to file for : \"Bette Davis Eyes\"\n",
      "Lyrics successfully written to file for : \"You're Not Sorry\"\n",
      "Lyrics successfully written to file for : \"Everything Has Changed\"\n",
      "Lyrics successfully written to file for : \"This Love\"\n",
      "Lyrics successfully written to file for : \"Sad Beautiful Tragic\"\n",
      "Lyrics successfully written to file for : \"The Outside\"\n",
      "Lyrics not found for : lovestoryonthesetbehindthescenes\n",
      "Lyrics successfully written to file for : \"Fifteen\"\n",
      "Lyrics successfully written to file for : \"I Want You Back\"\n",
      "Lyrics successfully written to file for : \"Starlight\"\n",
      "Lyrics not found for : red\n",
      "Lyrics not found for : haunted\n",
      "Lyrics not found for : maryssong\n",
      "Lyrics not found for : shakeitoff\n",
      "Lyrics not found for : enchanted\n",
      "Lyrics not found for : howyougetthegirl\n",
      "Lyrics not found for : cmtawards34thugstory34\n",
      "Lyrics not found for : dropsofjupiter\n",
      "Lyrics not found for : whitehorseonthesetbehindthescenes\n",
      "Lyrics not found for : breathe\n",
      "Lyrics not found for : fearless2009tourbehindthescenesatthefirstshow\n",
      "Lyrics not found for : teardropsonmyguitar\n",
      "Lyrics not found for : innocent\n",
      "Lyrics not found for : timmcgraw\n",
      "Lyrics not found for : allyouhadtodowasstay\n",
      "Lyrics not found for : 22\n",
      "Lyrics not found for : speaknow\n",
      "Lyrics not found for : thewayilovedyou\n",
      "Lyrics not found for : outofthewoods\n",
      "Lyrics not found for : foreveralways\n",
      "Lyrics not found for : deanjohn\n",
      "Lyrics not found for : staystaystay\n",
      "Lyrics not found for : dearjohn\n",
      "Lyrics not found for : iknowplaces\n",
      "Lyrics not found for : lovestorymusicvideo\n",
      "Lyrics not found for : youbelongwithmemusicvideo\n",
      "Lyrics not found for : iwishyouwould\n",
      "Lyrics not found for : comeinwiththerain\n",
      "Lyrics not found for : treacherous\n",
      "Lyrics not found for : clean\n",
      "Lyrics not found for : alltoowell\n",
      "Lyrics not found for : thebestday\n",
      "Lyrics not found for : fearlessimyoursheysoulsister\n",
      "Lyrics not found for : badblood\n",
      "Lyrics not found for : mean\n",
      "Lyrics not found for : oursong\n",
      "Lyrics not found for : thebestdaymusicvideo\n",
      "Lyrics not found for : sparksfly\n",
      "Lyrics not found for : ours\n"
     ]
    }
   ],
   "source": [
    "# url to scrape the lyrics from\n",
    "base_url = \"https://www.azlyrics.com/lyrics/{}/{}.html\"\n",
    "\n",
    "# file in which the lyrics would be saved\n",
    "lyrics_file = \"lyrics_scraped3.txt\"\n",
    "\n",
    "lyrics_not_found_for = []\n",
    "\n",
    "# delay after each execution of call for not exceeding the requests count and also not to overburden the server\n",
    "delay = 10\n",
    "\n",
    "with open(lyrics_file, \"w\") as file:\n",
    "    \n",
    "    for song in processed_songs:\n",
    "        final_url = base_url.format(artist,song)\n",
    "\n",
    "        try:\n",
    "            html_page = urlopen(final_url)\n",
    "            soup = BeautifulSoup(html_page, 'html.parser')\n",
    "\n",
    "            html_pointer = soup.find('div', attrs={'class':'ringtone'})\n",
    "            song_name = html_pointer.find_next('b').contents[0].strip()\n",
    "            lyrics = html_pointer.find_next('div').text.strip()\n",
    "\n",
    "            file.write(\"###\"+song_name+\"###\")\n",
    "            file.write(\"\\n\\n\")\n",
    "            file.write(lyrics)\n",
    "            file.write(\"\\n\\n\")\n",
    "            \n",
    "            print(\"Lyrics successfully written to file for : \" + song_name)\n",
    "            \n",
    "        except:\n",
    "            print(\"Lyrics not found for : \" + song) \n",
    "            lyrics_not_found_for.append(song)\n",
    "            \n",
    "        finally:\n",
    "            sleep(delay)\n",
    "            "
   ]
  },
  {
   "cell_type": "code",
   "execution_count": 5,
   "metadata": {},
   "outputs": [
    {
     "name": "stdout",
     "output_type": "stream",
     "text": [
      "Total count :  91 songs\n",
      "Lyrics successfully scraped for :  46 songs\n",
      "Lyrics not found for : 45 songs\n",
      "\n",
      "\n",
      "Here's the list :\n",
      "\n",
      "['fearlesstour2009photogallery', 'changemusicvideo', 'lovestorybonusvideocontentincludeshomemoviesrehearsalsofthespeaknowworldtourtracklis', 'youbelongwithmeonthesetbehindthescenes', 'whitehorsemusicvideo', 'lovestoryonthesetbehindthescenes', 'red', 'haunted', 'maryssong', 'shakeitoff', 'enchanted', 'howyougetthegirl', 'cmtawards34thugstory34', 'dropsofjupiter', 'whitehorseonthesetbehindthescenes', 'breathe', 'fearless2009tourbehindthescenesatthefirstshow', 'teardropsonmyguitar', 'innocent', 'timmcgraw', 'allyouhadtodowasstay', '22', 'speaknow', 'thewayilovedyou', 'outofthewoods', 'foreveralways', 'deanjohn', 'staystaystay', 'dearjohn', 'iknowplaces', 'lovestorymusicvideo', 'youbelongwithmemusicvideo', 'iwishyouwould', 'comeinwiththerain', 'treacherous', 'clean', 'alltoowell', 'thebestday', 'fearlessimyoursheysoulsister', 'badblood', 'mean', 'oursong', 'thebestdaymusicvideo', 'sparksfly', 'ours']\n"
     ]
    }
   ],
   "source": [
    "print(\"Total count : \", len(songs),\"songs\")\n",
    "print(\"Lyrics successfully scraped for : \", len(songs)-len(lyrics_not_found_for), \"songs\")\n",
    "print(\"Lyrics not found for :\", len(lyrics_not_found_for),\"songs\\n\")\n",
    "print(\"\\nHere's the list :\\n\")\n",
    "print(lyrics_not_found_for)"
   ]
  },
  {
   "cell_type": "code",
   "execution_count": null,
   "metadata": {},
   "outputs": [],
   "source": []
  }
 ],
 "metadata": {
  "kernelspec": {
   "display_name": "base",
   "language": "python",
   "name": "python3"
  },
  "language_info": {
   "codemirror_mode": {
    "name": "ipython",
    "version": 3
   },
   "file_extension": ".py",
   "mimetype": "text/x-python",
   "name": "python",
   "nbconvert_exporter": "python",
   "pygments_lexer": "ipython3",
   "version": "3.11.5"
  }
 },
 "nbformat": 4,
 "nbformat_minor": 2
}
