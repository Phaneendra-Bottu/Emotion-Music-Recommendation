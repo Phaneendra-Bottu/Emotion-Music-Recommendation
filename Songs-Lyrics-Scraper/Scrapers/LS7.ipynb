{
 "cells": [
  {
   "cell_type": "code",
   "execution_count": 1,
   "metadata": {},
   "outputs": [],
   "source": [
    "from urllib.request import urlopen\n",
    "from bs4 import BeautifulSoup\n",
    "from time import sleep\n",
    "import csv\n",
    "import json\n",
    "import re"
   ]
  },
  {
   "cell_type": "code",
   "execution_count": 2,
   "metadata": {},
   "outputs": [],
   "source": [
    "# file containing artists - songs mapping\n",
    "songs_json = \"Artists-Songs Mapping.json\"\n",
    "songs_dict = {}\n",
    "\n",
    "with open(songs_json) as file:\n",
    "    songs_dict = json.load(file)\n",
    "    "
   ]
  },
  {
   "cell_type": "code",
   "execution_count": 3,
   "metadata": {},
   "outputs": [
    {
     "name": "stdout",
     "output_type": "stream",
     "text": [
      "45\n",
      "45\n",
      "['offtotheraces', 'dietmountaindew', 'thisiswhatmakesusgirls', 'milliondollarman', 'dontletmebemisunderstood', 'theblackestday', 'âultraviolence', 'godsmonsters', 'fuckedmywayuptothetop', 'prettywhenyoucry', 'darkparadise', 'cruelworld', 'religion', 'âshadesofcool', 'videogames', 'swansong', 'terrencelovesyou', 'freak', 'godknowsitried', 'moneypowerglory']\n"
     ]
    }
   ],
   "source": [
    "# artist for which the lyrics need to be written\n",
    "artist = \"lanadelrey\"\n",
    "songs = songs_dict[artist]\n",
    "processed_songs = []\n",
    "\n",
    "# preprocessing the songs name for scraping\n",
    "for song in songs:\n",
    "    numbers_in_brackets_removed = re.sub(r'\\(.*\\)',\"\",song)\n",
    "    processed_song = re.sub(r'\\W+', '', numbers_in_brackets_removed).lower()\n",
    "    processed_songs.append(processed_song)\n",
    "    \n",
    "print(len(processed_songs))\n",
    "\n",
    "# Removing duplicate songs\n",
    "processed_songs = list(set(processed_songs))\n",
    "print(len(processed_songs))\n",
    "print(processed_songs[:20])"
   ]
  },
  {
   "cell_type": "code",
   "execution_count": 4,
   "metadata": {},
   "outputs": [
    {
     "name": "stdout",
     "output_type": "stream",
     "text": [
      "Lyrics successfully written to file for : \"Off To The Races\"\n",
      "Lyrics successfully written to file for : \"Diet Mountain Dew\"\n",
      "Lyrics successfully written to file for : \"This Is What Makes Us Girls\"\n",
      "Lyrics successfully written to file for : \"Million Dollar Man\"\n",
      "Lyrics successfully written to file for : \"Don't Let Me Be Misunderstood\"\n",
      "Lyrics successfully written to file for : \"The Blackest Day\"\n",
      "Lyrics not found for : âultraviolence\n",
      "Lyrics successfully written to file for : \"Gods & Monsters\"\n",
      "Lyrics successfully written to file for : \"Fucked My Way Up To The Top\"\n",
      "Lyrics successfully written to file for : \"Pretty When You Cry\"\n",
      "Lyrics successfully written to file for : \"Dark Paradise\"\n",
      "Lyrics successfully written to file for : \"Cruel World\"\n",
      "Lyrics successfully written to file for : \"Religion\"\n",
      "Lyrics not found for : âshadesofcool\n",
      "Lyrics successfully written to file for : \"Video Games\"\n",
      "Lyrics successfully written to file for : \"Swan Song\"\n",
      "Lyrics successfully written to file for : \"Terrence Loves You\"\n",
      "Lyrics successfully written to file for : \"Freak\"\n",
      "Lyrics successfully written to file for : \"God Knows I Tried\"\n",
      "Lyrics successfully written to file for : \"Money Power Glory\"\n",
      "Lyrics successfully written to file for : \"Music To Watch Boys To\"\n",
      "Lyrics successfully written to file for : \"Blue Jeans\"\n",
      "Lyrics successfully written to file for : \"National Anthem\"\n",
      "Lyrics successfully written to file for : \"Body Electric\"\n",
      "Lyrics not found for : âbrooklynbabyâ\n",
      "Lyrics successfully written to file for : \"Born To Die\"\n",
      "Lyrics successfully written to file for : \"Old Money\"\n",
      "Lyrics successfully written to file for : \"Bel Air\"\n",
      "Lyrics successfully written to file for : \"Honeymoon\"\n",
      "Lyrics successfully written to file for : \"24\"\n",
      "Lyrics successfully written to file for : \"Radio\"\n",
      "Lyrics successfully written to file for : \"The Other Woman\"\n",
      "Lyrics successfully written to file for : \"Summertime Sadness\"\n",
      "Lyrics successfully written to file for : \"Yayo\"\n",
      "Lyrics successfully written to file for : \"Carmen\"\n",
      "Lyrics not found for : cola\n",
      "Lyrics not found for : burntnorton\n",
      "Lyrics successfully written to file for : \"Sad Girl\"\n",
      "Lyrics successfully written to file for : \"High By The Beach\"\n",
      "Lyrics successfully written to file for : \"Blue Velvet\"\n",
      "Lyrics successfully written to file for : \"Ride\"\n",
      "Lyrics successfully written to file for : \"Art Deco\"\n",
      "Lyrics successfully written to file for : \"American\"\n",
      "Lyrics successfully written to file for : \"West Coast\"\n",
      "Lyrics successfully written to file for : \"Salvatore\"\n"
     ]
    }
   ],
   "source": [
    "# url to scrape the lyrics from\n",
    "base_url = \"https://www.azlyrics.com/lyrics/{}/{}.html\"\n",
    "\n",
    "# file in which the lyrics would be saved\n",
    "lyrics_file = \"lyrics_scraped7.txt\"\n",
    "\n",
    "lyrics_not_found_for = []\n",
    "\n",
    "# delay after each execution of call for not exceeding the requests count and also not to overburden the server\n",
    "delay = 10\n",
    "\n",
    "with open(lyrics_file, \"w\") as file:\n",
    "    \n",
    "    for song in processed_songs:\n",
    "        final_url = base_url.format(artist,song)\n",
    "\n",
    "        try:\n",
    "            html_page = urlopen(final_url)\n",
    "            soup = BeautifulSoup(html_page, 'html.parser')\n",
    "\n",
    "            html_pointer = soup.find('div', attrs={'class':'ringtone'})\n",
    "            song_name = html_pointer.find_next('b').contents[0].strip()\n",
    "            lyrics = html_pointer.find_next('div').text.strip()\n",
    "\n",
    "            file.write(\"###\"+song_name+\"###\")\n",
    "            file.write(\"\\n\\n\")\n",
    "            file.write(lyrics)\n",
    "            file.write(\"\\n\\n\")\n",
    "            \n",
    "            print(\"Lyrics successfully written to file for : \" + song_name)\n",
    "            \n",
    "        except:\n",
    "            print(\"Lyrics not found for : \" + song) \n",
    "            lyrics_not_found_for.append(song)\n",
    "            \n",
    "        finally:\n",
    "            sleep(delay)\n",
    "            "
   ]
  },
  {
   "cell_type": "code",
   "execution_count": 5,
   "metadata": {},
   "outputs": [
    {
     "name": "stdout",
     "output_type": "stream",
     "text": [
      "Total count :  45 songs\n",
      "Lyrics successfully scraped for :  40 songs\n",
      "Lyrics not found for : 5 songs\n",
      "\n",
      "\n",
      "Here's the list :\n",
      "\n",
      "['âultraviolence', 'âshadesofcool', 'âbrooklynbabyâ', 'cola', 'burntnorton']\n"
     ]
    }
   ],
   "source": [
    "print(\"Total count : \", len(songs),\"songs\")\n",
    "print(\"Lyrics successfully scraped for : \", len(songs)-len(lyrics_not_found_for), \"songs\")\n",
    "print(\"Lyrics not found for :\", len(lyrics_not_found_for),\"songs\\n\")\n",
    "print(\"\\nHere's the list :\\n\")\n",
    "print(lyrics_not_found_for)"
   ]
  }
 ],
 "metadata": {
  "kernelspec": {
   "display_name": "base",
   "language": "python",
   "name": "python3"
  },
  "language_info": {
   "codemirror_mode": {
    "name": "ipython",
    "version": 3
   },
   "file_extension": ".py",
   "mimetype": "text/x-python",
   "name": "python",
   "nbconvert_exporter": "python",
   "pygments_lexer": "ipython3",
   "version": "3.11.5"
  }
 },
 "nbformat": 4,
 "nbformat_minor": 2
}
