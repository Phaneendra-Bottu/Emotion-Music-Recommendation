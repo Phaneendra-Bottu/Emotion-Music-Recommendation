{
 "cells": [
  {
   "cell_type": "code",
   "execution_count": 1,
   "metadata": {},
   "outputs": [
    {
     "name": "stdout",
     "output_type": "stream",
     "text": [
      "WARNING:tensorflow:From c:\\Users\\PhnaeendraAdmin\\anaconda3\\Lib\\site-packages\\keras\\src\\losses.py:2976: The name tf.losses.sparse_softmax_cross_entropy is deprecated. Please use tf.compat.v1.losses.sparse_softmax_cross_entropy instead.\n",
      "\n"
     ]
    }
   ],
   "source": [
    "from keras.models import Sequential\n",
    "from keras.layers import Dense, Dropout, Flatten\n",
    "from keras.layers import Conv2D\n",
    "from keras.layers import MaxPooling2D\n",
    "from keras.optimizers import Adam\n",
    "from keras.preprocessing.image import ImageDataGenerator\n",
    "import tensorflow as tf"
   ]
  },
  {
   "cell_type": "code",
   "execution_count": 2,
   "metadata": {},
   "outputs": [],
   "source": [
    "\n",
    "train_dir = 'data/train'\n",
    "val_dir = 'data/test'\n",
    "train_datagen = ImageDataGenerator(rescale=1./255)\n",
    "val_datagen = ImageDataGenerator(rescale=1./255)\n"
   ]
  },
  {
   "cell_type": "code",
   "execution_count": 3,
   "metadata": {},
   "outputs": [
    {
     "name": "stdout",
     "output_type": "stream",
     "text": [
      "Found 28709 images belonging to 7 classes.\n",
      "Found 7178 images belonging to 7 classes.\n"
     ]
    }
   ],
   "source": [
    "\n",
    "train_generator = train_datagen.flow_from_directory(\n",
    "    train_dir,\n",
    "    target_size = (48,48),\n",
    "    batch_size = 64,\n",
    "    color_mode = \"grayscale\",\n",
    "    class_mode = 'categorical'\n",
    ")\n",
    "\n",
    "val_generator = val_datagen.flow_from_directory(\n",
    "    val_dir,\n",
    "    target_size = (48,48),\n",
    "    batch_size = 64,\n",
    "    color_mode = \"grayscale\",\n",
    "    class_mode = 'categorical'\n",
    ")\n"
   ]
  },
  {
   "cell_type": "code",
   "execution_count": 4,
   "metadata": {},
   "outputs": [
    {
     "name": "stdout",
     "output_type": "stream",
     "text": [
      "WARNING:tensorflow:From c:\\Users\\PhnaeendraAdmin\\anaconda3\\Lib\\site-packages\\keras\\src\\backend.py:873: The name tf.get_default_graph is deprecated. Please use tf.compat.v1.get_default_graph instead.\n",
      "\n",
      "WARNING:tensorflow:From c:\\Users\\PhnaeendraAdmin\\anaconda3\\Lib\\site-packages\\keras\\src\\layers\\pooling\\max_pooling2d.py:161: The name tf.nn.max_pool is deprecated. Please use tf.nn.max_pool2d instead.\n",
      "\n"
     ]
    }
   ],
   "source": [
    "lr_schedule = tf.keras.optimizers.schedules.ExponentialDecay(\n",
    "    initial_learning_rate=0.0001,\n",
    "    decay_steps=1 / 1e-6,  # Decay every step to achieve 1e-6 decay in total\n",
    "    decay_rate=1.0,  # No decay, since we're manually controlling decay steps\n",
    "    staircase=True)\n",
    "\n",
    "\n",
    "emotion_model = Sequential()\n",
    "\n",
    "emotion_model.add(Conv2D(32, kernel_size=(3,3), activation='relu', input_shape = (48,48,1)))\n",
    "emotion_model.add(Conv2D(64, kernel_size=(3,3), activation='relu'))\n",
    "emotion_model.add(MaxPooling2D(pool_size=(2,2)))\n",
    "emotion_model.add(Dropout(0.25))\n",
    "\n",
    "emotion_model.add(Conv2D(128, kernel_size=(3,3), activation='relu'))\n",
    "emotion_model.add(MaxPooling2D(pool_size=(2,2)))\n",
    "emotion_model.add(Conv2D(128, kernel_size=(3,3), activation='relu'))\n",
    "emotion_model.add(MaxPooling2D(pool_size=(2,2)))\n",
    "emotion_model.add(Dropout(0.25))\n",
    "\n",
    "emotion_model.add(Flatten())\n",
    "emotion_model.add(Dense(1024, activation='relu'))\n",
    "emotion_model.add(Dropout(0.5))\n",
    "emotion_model.add(Dense(7, activation='softmax'))\n",
    "\n",
    "emotion_model.compile(loss='categorical_crossentropy',optimizer = tf.keras.optimizers.Adam(learning_rate=lr_schedule)\n",
    ",metrics=['accuracy'])\n"
   ]
  },
  {
   "cell_type": "code",
   "execution_count": 5,
   "metadata": {},
   "outputs": [
    {
     "name": "stderr",
     "output_type": "stream",
     "text": [
      "C:\\Users\\PhnaeendraAdmin\\AppData\\Local\\Temp\\ipykernel_20576\\33726616.py:1: UserWarning: `Model.fit_generator` is deprecated and will be removed in a future version. Please use `Model.fit`, which supports generators.\n",
      "  emotion_model_info = emotion_model.fit_generator(\n"
     ]
    },
    {
     "name": "stdout",
     "output_type": "stream",
     "text": [
      "Epoch 1/75\n",
      "WARNING:tensorflow:From c:\\Users\\PhnaeendraAdmin\\anaconda3\\Lib\\site-packages\\keras\\src\\utils\\tf_utils.py:492: The name tf.ragged.RaggedTensorValue is deprecated. Please use tf.compat.v1.ragged.RaggedTensorValue instead.\n",
      "\n",
      "WARNING:tensorflow:From c:\\Users\\PhnaeendraAdmin\\anaconda3\\Lib\\site-packages\\keras\\src\\engine\\base_layer_utils.py:384: The name tf.executing_eagerly_outside_functions is deprecated. Please use tf.compat.v1.executing_eagerly_outside_functions instead.\n",
      "\n",
      "448/448 [==============================] - 570s 1s/step - loss: 1.7924 - accuracy: 0.2663 - val_loss: 1.6739 - val_accuracy: 0.3492\n",
      "Epoch 2/75\n",
      "448/448 [==============================] - 231s 516ms/step - loss: 1.6117 - accuracy: 0.3762 - val_loss: 1.5333 - val_accuracy: 0.4153\n",
      "Epoch 3/75\n",
      "448/448 [==============================] - 220s 491ms/step - loss: 1.5192 - accuracy: 0.4179 - val_loss: 1.4477 - val_accuracy: 0.4542\n",
      "Epoch 4/75\n",
      "448/448 [==============================] - 219s 489ms/step - loss: 1.4549 - accuracy: 0.4442 - val_loss: 1.3989 - val_accuracy: 0.4648\n",
      "Epoch 5/75\n",
      "448/448 [==============================] - 221s 492ms/step - loss: 1.3900 - accuracy: 0.4706 - val_loss: 1.3437 - val_accuracy: 0.4869\n",
      "Epoch 6/75\n",
      "448/448 [==============================] - 405s 906ms/step - loss: 1.3433 - accuracy: 0.4885 - val_loss: 1.3033 - val_accuracy: 0.5060\n",
      "Epoch 7/75\n",
      "448/448 [==============================] - 418s 933ms/step - loss: 1.3035 - accuracy: 0.5049 - val_loss: 1.2690 - val_accuracy: 0.5146\n",
      "Epoch 8/75\n",
      "448/448 [==============================] - 211s 470ms/step - loss: 1.2633 - accuracy: 0.5196 - val_loss: 1.2434 - val_accuracy: 0.5269\n",
      "Epoch 9/75\n",
      "448/448 [==============================] - 194s 433ms/step - loss: 1.2309 - accuracy: 0.5345 - val_loss: 1.2126 - val_accuracy: 0.5382\n",
      "Epoch 10/75\n",
      "448/448 [==============================] - 214s 478ms/step - loss: 1.1975 - accuracy: 0.5496 - val_loss: 1.1990 - val_accuracy: 0.5427\n",
      "Epoch 11/75\n",
      "448/448 [==============================] - 221s 493ms/step - loss: 1.1712 - accuracy: 0.5599 - val_loss: 1.1835 - val_accuracy: 0.5479\n",
      "Epoch 12/75\n",
      "448/448 [==============================] - 217s 483ms/step - loss: 1.1416 - accuracy: 0.5696 - val_loss: 1.1596 - val_accuracy: 0.5561\n",
      "Epoch 13/75\n",
      "448/448 [==============================] - 241s 538ms/step - loss: 1.1185 - accuracy: 0.5808 - val_loss: 1.1428 - val_accuracy: 0.5639\n",
      "Epoch 14/75\n",
      "448/448 [==============================] - 242s 539ms/step - loss: 1.0948 - accuracy: 0.5932 - val_loss: 1.1399 - val_accuracy: 0.5656\n",
      "Epoch 15/75\n",
      "448/448 [==============================] - 228s 508ms/step - loss: 1.0673 - accuracy: 0.6013 - val_loss: 1.1254 - val_accuracy: 0.5738\n",
      "Epoch 16/75\n",
      "448/448 [==============================] - 214s 478ms/step - loss: 1.0460 - accuracy: 0.6098 - val_loss: 1.1214 - val_accuracy: 0.5709\n",
      "Epoch 17/75\n",
      "448/448 [==============================] - 213s 476ms/step - loss: 1.0250 - accuracy: 0.6195 - val_loss: 1.1154 - val_accuracy: 0.5778\n",
      "Epoch 18/75\n",
      "448/448 [==============================] - 211s 470ms/step - loss: 0.9974 - accuracy: 0.6300 - val_loss: 1.1022 - val_accuracy: 0.5843\n",
      "Epoch 19/75\n",
      "448/448 [==============================] - 211s 471ms/step - loss: 0.9721 - accuracy: 0.6406 - val_loss: 1.0925 - val_accuracy: 0.5862\n",
      "Epoch 20/75\n",
      "448/448 [==============================] - 218s 488ms/step - loss: 0.9540 - accuracy: 0.6492 - val_loss: 1.0845 - val_accuracy: 0.5904\n",
      "Epoch 21/75\n",
      "448/448 [==============================] - 223s 499ms/step - loss: 0.9305 - accuracy: 0.6574 - val_loss: 1.0870 - val_accuracy: 0.5903\n",
      "Epoch 22/75\n",
      "448/448 [==============================] - 221s 492ms/step - loss: 0.9111 - accuracy: 0.6665 - val_loss: 1.0790 - val_accuracy: 0.5954\n",
      "Epoch 23/75\n",
      "448/448 [==============================] - 230s 514ms/step - loss: 0.8896 - accuracy: 0.6712 - val_loss: 1.0734 - val_accuracy: 0.6004\n",
      "Epoch 24/75\n",
      "448/448 [==============================] - 223s 499ms/step - loss: 0.8676 - accuracy: 0.6826 - val_loss: 1.0798 - val_accuracy: 0.5992\n",
      "Epoch 25/75\n",
      "448/448 [==============================] - 217s 484ms/step - loss: 0.8382 - accuracy: 0.6924 - val_loss: 1.0784 - val_accuracy: 0.6013\n",
      "Epoch 26/75\n",
      "448/448 [==============================] - 209s 467ms/step - loss: 0.8171 - accuracy: 0.7010 - val_loss: 1.0683 - val_accuracy: 0.6088\n",
      "Epoch 27/75\n",
      "448/448 [==============================] - 228s 508ms/step - loss: 0.7920 - accuracy: 0.7094 - val_loss: 1.0696 - val_accuracy: 0.6127\n",
      "Epoch 28/75\n",
      "448/448 [==============================] - 218s 487ms/step - loss: 0.7788 - accuracy: 0.7154 - val_loss: 1.0599 - val_accuracy: 0.6141\n",
      "Epoch 29/75\n",
      "448/448 [==============================] - 234s 522ms/step - loss: 0.7472 - accuracy: 0.7279 - val_loss: 1.0615 - val_accuracy: 0.6147\n",
      "Epoch 30/75\n",
      "448/448 [==============================] - 171s 381ms/step - loss: 0.7268 - accuracy: 0.7383 - val_loss: 1.0662 - val_accuracy: 0.6152\n",
      "Epoch 31/75\n",
      "448/448 [==============================] - 180s 403ms/step - loss: 0.7042 - accuracy: 0.7455 - val_loss: 1.0694 - val_accuracy: 0.6157\n",
      "Epoch 32/75\n",
      "448/448 [==============================] - 216s 482ms/step - loss: 0.6816 - accuracy: 0.7528 - val_loss: 1.0868 - val_accuracy: 0.6124\n",
      "Epoch 33/75\n",
      "448/448 [==============================] - 236s 527ms/step - loss: 0.6660 - accuracy: 0.7564 - val_loss: 1.0793 - val_accuracy: 0.6154\n",
      "Epoch 34/75\n",
      "448/448 [==============================] - 243s 542ms/step - loss: 0.6359 - accuracy: 0.7695 - val_loss: 1.0814 - val_accuracy: 0.6180\n",
      "Epoch 35/75\n",
      "448/448 [==============================] - 221s 494ms/step - loss: 0.6204 - accuracy: 0.7765 - val_loss: 1.0812 - val_accuracy: 0.6129\n",
      "Epoch 36/75\n",
      "448/448 [==============================] - 220s 490ms/step - loss: 0.5926 - accuracy: 0.7846 - val_loss: 1.0908 - val_accuracy: 0.6200\n",
      "Epoch 37/75\n",
      "448/448 [==============================] - 220s 491ms/step - loss: 0.5810 - accuracy: 0.7921 - val_loss: 1.1150 - val_accuracy: 0.6183\n",
      "Epoch 38/75\n",
      "448/448 [==============================] - 220s 491ms/step - loss: 0.5635 - accuracy: 0.7972 - val_loss: 1.0908 - val_accuracy: 0.6169\n",
      "Epoch 39/75\n",
      "448/448 [==============================] - 216s 483ms/step - loss: 0.5335 - accuracy: 0.8064 - val_loss: 1.1292 - val_accuracy: 0.6222\n",
      "Epoch 40/75\n",
      "448/448 [==============================] - 216s 483ms/step - loss: 0.5221 - accuracy: 0.8121 - val_loss: 1.1166 - val_accuracy: 0.6173\n",
      "Epoch 41/75\n",
      "448/448 [==============================] - 226s 505ms/step - loss: 0.5032 - accuracy: 0.8214 - val_loss: 1.1188 - val_accuracy: 0.6197\n",
      "Epoch 42/75\n",
      "448/448 [==============================] - 219s 490ms/step - loss: 0.4835 - accuracy: 0.8258 - val_loss: 1.1345 - val_accuracy: 0.6197\n",
      "Epoch 43/75\n",
      "448/448 [==============================] - 215s 480ms/step - loss: 0.4729 - accuracy: 0.8302 - val_loss: 1.1352 - val_accuracy: 0.6229\n",
      "Epoch 44/75\n",
      "448/448 [==============================] - 221s 493ms/step - loss: 0.4572 - accuracy: 0.8364 - val_loss: 1.1478 - val_accuracy: 0.6260\n",
      "Epoch 45/75\n",
      "448/448 [==============================] - 225s 502ms/step - loss: 0.4430 - accuracy: 0.8406 - val_loss: 1.1582 - val_accuracy: 0.6240\n",
      "Epoch 46/75\n",
      "448/448 [==============================] - 224s 500ms/step - loss: 0.4329 - accuracy: 0.8459 - val_loss: 1.1671 - val_accuracy: 0.6219\n",
      "Epoch 47/75\n",
      "448/448 [==============================] - 223s 498ms/step - loss: 0.4148 - accuracy: 0.8504 - val_loss: 1.1736 - val_accuracy: 0.6211\n",
      "Epoch 48/75\n",
      "448/448 [==============================] - 217s 485ms/step - loss: 0.4004 - accuracy: 0.8550 - val_loss: 1.1680 - val_accuracy: 0.6210\n",
      "Epoch 49/75\n",
      "448/448 [==============================] - 219s 490ms/step - loss: 0.3881 - accuracy: 0.8625 - val_loss: 1.1789 - val_accuracy: 0.6230\n",
      "Epoch 50/75\n",
      "448/448 [==============================] - 216s 483ms/step - loss: 0.3728 - accuracy: 0.8664 - val_loss: 1.1837 - val_accuracy: 0.6247\n",
      "Epoch 51/75\n",
      "448/448 [==============================] - 218s 486ms/step - loss: 0.3634 - accuracy: 0.8709 - val_loss: 1.2016 - val_accuracy: 0.6205\n",
      "Epoch 52/75\n",
      "448/448 [==============================] - 216s 483ms/step - loss: 0.3540 - accuracy: 0.8738 - val_loss: 1.2159 - val_accuracy: 0.6240\n",
      "Epoch 53/75\n",
      "448/448 [==============================] - 222s 496ms/step - loss: 0.3428 - accuracy: 0.8787 - val_loss: 1.2302 - val_accuracy: 0.6219\n",
      "Epoch 54/75\n",
      "448/448 [==============================] - 217s 485ms/step - loss: 0.3345 - accuracy: 0.8799 - val_loss: 1.2237 - val_accuracy: 0.6221\n",
      "Epoch 55/75\n",
      "448/448 [==============================] - 214s 478ms/step - loss: 0.3284 - accuracy: 0.8806 - val_loss: 1.2266 - val_accuracy: 0.6251\n",
      "Epoch 56/75\n",
      "448/448 [==============================] - 216s 481ms/step - loss: 0.3239 - accuracy: 0.8844 - val_loss: 1.2435 - val_accuracy: 0.6194\n",
      "Epoch 57/75\n",
      "448/448 [==============================] - 218s 486ms/step - loss: 0.3021 - accuracy: 0.8932 - val_loss: 1.2709 - val_accuracy: 0.6244\n",
      "Epoch 58/75\n",
      "448/448 [==============================] - 218s 486ms/step - loss: 0.2975 - accuracy: 0.8942 - val_loss: 1.2715 - val_accuracy: 0.6253\n",
      "Epoch 59/75\n",
      "448/448 [==============================] - 214s 478ms/step - loss: 0.2929 - accuracy: 0.8968 - val_loss: 1.2891 - val_accuracy: 0.6242\n",
      "Epoch 60/75\n",
      "448/448 [==============================] - 221s 493ms/step - loss: 0.2816 - accuracy: 0.9001 - val_loss: 1.2821 - val_accuracy: 0.6256\n",
      "Epoch 61/75\n",
      "448/448 [==============================] - 229s 511ms/step - loss: 0.2741 - accuracy: 0.9033 - val_loss: 1.2728 - val_accuracy: 0.6229\n",
      "Epoch 62/75\n",
      "448/448 [==============================] - 246s 548ms/step - loss: 0.2704 - accuracy: 0.9055 - val_loss: 1.2907 - val_accuracy: 0.6263\n",
      "Epoch 63/75\n",
      "448/448 [==============================] - 282s 629ms/step - loss: 0.2633 - accuracy: 0.9047 - val_loss: 1.3051 - val_accuracy: 0.6249\n",
      "Epoch 64/75\n",
      "448/448 [==============================] - 230s 513ms/step - loss: 0.2582 - accuracy: 0.9091 - val_loss: 1.3182 - val_accuracy: 0.6225\n",
      "Epoch 65/75\n",
      "448/448 [==============================] - 226s 504ms/step - loss: 0.2478 - accuracy: 0.9133 - val_loss: 1.3576 - val_accuracy: 0.6272\n",
      "Epoch 66/75\n",
      "448/448 [==============================] - 219s 489ms/step - loss: 0.2456 - accuracy: 0.9128 - val_loss: 1.3320 - val_accuracy: 0.6247\n",
      "Epoch 67/75\n",
      "448/448 [==============================] - 217s 485ms/step - loss: 0.2379 - accuracy: 0.9149 - val_loss: 1.3472 - val_accuracy: 0.6173\n",
      "Epoch 68/75\n",
      "448/448 [==============================] - 217s 485ms/step - loss: 0.2366 - accuracy: 0.9156 - val_loss: 1.3614 - val_accuracy: 0.6214\n",
      "Epoch 69/75\n",
      "448/448 [==============================] - 222s 496ms/step - loss: 0.2294 - accuracy: 0.9197 - val_loss: 1.3735 - val_accuracy: 0.6197\n",
      "Epoch 70/75\n",
      "448/448 [==============================] - 225s 502ms/step - loss: 0.2320 - accuracy: 0.9172 - val_loss: 1.3543 - val_accuracy: 0.6277\n",
      "Epoch 71/75\n",
      "448/448 [==============================] - 219s 489ms/step - loss: 0.2234 - accuracy: 0.9215 - val_loss: 1.3781 - val_accuracy: 0.6230\n",
      "Epoch 72/75\n",
      "448/448 [==============================] - 218s 487ms/step - loss: 0.2206 - accuracy: 0.9241 - val_loss: 1.3698 - val_accuracy: 0.6300\n",
      "Epoch 73/75\n",
      "448/448 [==============================] - 219s 489ms/step - loss: 0.2119 - accuracy: 0.9252 - val_loss: 1.3951 - val_accuracy: 0.6297\n",
      "Epoch 74/75\n",
      "448/448 [==============================] - 220s 492ms/step - loss: 0.2116 - accuracy: 0.9264 - val_loss: 1.3659 - val_accuracy: 0.6288\n",
      "Epoch 75/75\n",
      "448/448 [==============================] - 219s 489ms/step - loss: 0.2110 - accuracy: 0.9249 - val_loss: 1.3687 - val_accuracy: 0.6282\n"
     ]
    }
   ],
   "source": [
    "emotion_model_info = emotion_model.fit_generator(\n",
    "    train_generator,\n",
    "    steps_per_epoch = 28709 // 64,\n",
    "    epochs=75,\n",
    "    validation_data = val_generator,\n",
    "    validation_steps = 7178 // 64\n",
    ")\n",
    "\n",
    "emotion_model.save_weights('model.h5')\n"
   ]
  },
  {
   "cell_type": "code",
   "execution_count": 6,
   "metadata": {},
   "outputs": [],
   "source": [
    "\n",
    "main_accent_colour = \"#b366ff\"\n",
    "dim_colour=\"darkgrey\"\n",
    "main_palette = [\"#FBE5C0\", \"#DD9A30\", \"#F88379\", \"#FF6FC2\", \"purple\", \"#D086F6\", \"#B0D2C2\", \"#4C5D70\", \"#6FA2CE\", \"#382D24\", \"#3ACF3A\", \"#7D7D00\"]"
   ]
  },
  {
   "cell_type": "code",
   "execution_count": 7,
   "metadata": {},
   "outputs": [],
   "source": [
    "\n",
    "row = 48\n",
    "col = 48"
   ]
  },
  {
   "cell_type": "code",
   "execution_count": 14,
   "metadata": {},
   "outputs": [],
   "source": [
    "import os\n",
    "import matplotlib.pyplot as plt\n",
    "import seaborn as sns\n",
    "\n",
    "# Calculate number of images in each class for training\n",
    "train_count = [len(os.listdir(os.path.join(train_dir, folder))) for folder in os.listdir(train_dir)]\n",
    "\n",
    "# Calculate number of images in each class for validation\n",
    "val_count = [len(os.listdir(os.path.join(val_dir, folder))) for folder in os.listdir(val_dir)]\n"
   ]
  },
  {
   "cell_type": "code",
   "execution_count": 15,
   "metadata": {},
   "outputs": [
    {
     "data": {
      "image/png": "[encoded data removed]",
      "text/plain": [
       "<Figure size 800x400 with 1 Axes>"
      ]
     },
     "metadata": {},
     "output_type": "display_data"
    },
    {
     "name": "stdout",
     "output_type": "stream",
     "text": [
      "\n"
     ]
    },
    {
     "data": {
      "image/png": "[encoded data removed]",
      "text/plain": [
       "<Figure size 640x480 with 1 Axes>"
      ]
     },
     "metadata": {},
     "output_type": "display_data"
    },
    {
     "name": "stdout",
     "output_type": "stream",
     "text": [
      "\n"
     ]
    }
   ],
   "source": [
    "# Plot for training data\n",
    "plt.figure(figsize=(8,4))\n",
    "\n",
    "ax = sns.barplot(y=os.listdir(train_dir),\n",
    "                 x=train_count,\n",
    "                 palette=palette,\n",
    "                 orientation=\"horizontal\",\n",
    ").set(title='Train Classes')\n",
    "\n",
    "plt.show()\n",
    "\n",
    "print()\n",
    "\n",
    "# Plot for validation data\n",
    "ax = sns.barplot(y=os.listdir(val_dir),\n",
    "                 x=val_count,\n",
    "                 palette=palette,\n",
    "                 orientation=\"horizontal\",\n",
    ").set(title='Validation Classes')\n",
    "\n",
    "plt.show()\n",
    "\n",
    "print()\n"
   ]
  }
 ],
 "metadata": {
  "kernelspec": {
   "display_name": "base",
   "language": "python",
   "name": "python3"
  },
  "language_info": {
   "codemirror_mode": {
    "name": "ipython",
    "version": 3
   },
   "file_extension": ".py",
   "mimetype": "text/x-python",
   "name": "python",
   "nbconvert_exporter": "python",
   "pygments_lexer": "ipython3",
   "version": "3.11.5"
  }
 },
 "nbformat": 4,
 "nbformat_minor": 2
}
